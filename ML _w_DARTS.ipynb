{
 "cells": [
  {
   "cell_type": "markdown",
   "metadata": {},
   "source": [
    "# RAINWATCH _ ML with DARTS "
   ]
  },
  {
   "cell_type": "markdown",
   "metadata": {},
   "source": [
    "## 0. Import libraries and data"
   ]
  },
  {
   "cell_type": "code",
   "execution_count": 63,
   "metadata": {},
   "outputs": [],
   "source": [
    "# import libraries \n",
    "import pandas as pd\n",
    "import matplotlib.pyplot as plt\n",
    "\n",
    "from darts import TimeSeries\n",
    "from darts.dataprocessing.transformers import Scaler\n",
    "from darts.metrics import *\n",
    "from darts.utils.statistics import check_seasonality, plot_acf, plot_residuals_analysis\n",
    "from darts.models import (\n",
    "    NaiveSeasonal,\n",
    "    NaiveDrift,\n",
    "    Prophet,\n",
    "    ExponentialSmoothing,\n",
    "    LinearRegressionModel,\n",
    "    ARIMA,\n",
    "    AutoARIMA,\n",
    "    RegressionEnsembleModel,\n",
    "    RegressionModel,\n",
    "    Theta,\n",
    "    FFT,\n",
    "    RNNModel,\n",
    "    BlockRNNModel\n",
    "\n",
    ")"
   ]
  },
  {
   "cell_type": "code",
   "execution_count": 22,
   "metadata": {},
   "outputs": [
    {
     "name": "stdout",
     "output_type": "stream",
     "text": [
      "<class 'pandas.core.frame.DataFrame'>\n",
      "RangeIndex: 9328 entries, 0 to 9327\n",
      "Data columns (total 17 columns):\n",
      " #   Column                     Non-Null Count  Dtype  \n",
      "---  ------                     --------------  -----  \n",
      " 0   Precipitation              9328 non-null   float64\n",
      " 1   Date.Full                  9328 non-null   object \n",
      " 2   Date.Month                 9328 non-null   int64  \n",
      " 3   Date.Week of               9328 non-null   int64  \n",
      " 4   Date.Year                  9328 non-null   int64  \n",
      " 5   StationCity                9328 non-null   object \n",
      " 6   Station.Code               9328 non-null   object \n",
      " 7   Station.Location           9328 non-null   object \n",
      " 8   StationState               9328 non-null   object \n",
      " 9   TempAvg                    9328 non-null   int64  \n",
      " 10  Data.Temperature.Max Temp  9328 non-null   int64  \n",
      " 11  Data.Temperature.Min Temp  9328 non-null   int64  \n",
      " 12  Data.Wind.Direction        9328 non-null   int64  \n",
      " 13  WindSpeed                  9328 non-null   float64\n",
      " 14  Population                 9328 non-null   int64  \n",
      " 15  lat                        9328 non-null   float64\n",
      " 16  lon                        9328 non-null   float64\n",
      "dtypes: float64(4), int64(8), object(5)\n",
      "memory usage: 1.2+ MB\n",
      "None\n",
      "   Precipitation   Date.Full  Date.Month  Date.Week of  Date.Year StationCity  \\\n",
      "0           0.00  2016-01-03           1             3       2016  Birmingham   \n",
      "1           0.52  2016-01-10           1            10       2016  Birmingham   \n",
      "2           0.34  2016-01-17           1            17       2016  Birmingham   \n",
      "\n",
      "  Station.Code Station.Location StationState  TempAvg  \\\n",
      "0          BHM   Birmingham, AL      Alabama       39   \n",
      "1          BHM   Birmingham, AL      Alabama       44   \n",
      "2          BHM   Birmingham, AL      Alabama       42   \n",
      "\n",
      "   Data.Temperature.Max Temp  Data.Temperature.Min Temp  Data.Wind.Direction  \\\n",
      "0                         46                         32                   33   \n",
      "1                         52                         36                   12   \n",
      "2                         52                         31                   28   \n",
      "\n",
      "   WindSpeed  Population        lat       lon  \n",
      "0       4.33      212113  33.520661 -86.80249  \n",
      "1       6.55      212113  33.520661 -86.80249  \n",
      "2       3.94      212113  33.520661 -86.80249  \n"
     ]
    }
   ],
   "source": [
    "# import and preview data\n",
    "df_rw = pd.read_csv('data/proc_data/weatherwcity.csv')\n",
    "print(df_rw.info())\n",
    "print(df_rw.head(3))\n",
    "\n"
   ]
  },
  {
   "cell_type": "markdown",
   "metadata": {},
   "source": [
    "## 1. Preprocesing for time series\n",
    "A time series on Darts is based on the time indicating index. Thus, in this case, since an index needs to be unique there is a time series per station.\n",
    "Let us focus on data from one station: Birmingham "
   ]
  },
  {
   "cell_type": "code",
   "execution_count": 23,
   "metadata": {},
   "outputs": [],
   "source": [
    "df_rw['Date']=df_rw['Date.Full'].apply(pd.to_datetime)"
   ]
  },
  {
   "cell_type": "code",
   "execution_count": 27,
   "metadata": {},
   "outputs": [],
   "source": [
    "df_rw['stationcode'] =df_rw['Station.Code']"
   ]
  },
  {
   "cell_type": "code",
   "execution_count": 28,
   "metadata": {},
   "outputs": [
    {
     "name": "stdout",
     "output_type": "stream",
     "text": [
      "<class 'pandas.core.frame.DataFrame'>\n",
      "RangeIndex: 9328 entries, 0 to 9327\n",
      "Data columns (total 19 columns):\n",
      " #   Column                     Non-Null Count  Dtype         \n",
      "---  ------                     --------------  -----         \n",
      " 0   Precipitation              9328 non-null   float64       \n",
      " 1   Date.Full                  9328 non-null   object        \n",
      " 2   Date.Month                 9328 non-null   int64         \n",
      " 3   Date.Week of               9328 non-null   int64         \n",
      " 4   Date.Year                  9328 non-null   int64         \n",
      " 5   StationCity                9328 non-null   object        \n",
      " 6   Station.Code               9328 non-null   object        \n",
      " 7   Station.Location           9328 non-null   object        \n",
      " 8   StationState               9328 non-null   object        \n",
      " 9   TempAvg                    9328 non-null   int64         \n",
      " 10  Data.Temperature.Max Temp  9328 non-null   int64         \n",
      " 11  Data.Temperature.Min Temp  9328 non-null   int64         \n",
      " 12  Data.Wind.Direction        9328 non-null   int64         \n",
      " 13  WindSpeed                  9328 non-null   float64       \n",
      " 14  Population                 9328 non-null   int64         \n",
      " 15  lat                        9328 non-null   float64       \n",
      " 16  lon                        9328 non-null   float64       \n",
      " 17  Date                       9328 non-null   datetime64[ns]\n",
      " 18  stationcode                9328 non-null   object        \n",
      "dtypes: datetime64[ns](1), float64(4), int64(8), object(6)\n",
      "memory usage: 1.4+ MB\n"
     ]
    }
   ],
   "source": [
    "df_rw.info()"
   ]
  },
  {
   "cell_type": "code",
   "execution_count": 29,
   "metadata": {},
   "outputs": [],
   "source": [
    "df_bhm=df_rw.query(\"stationcode == 'BHM'\")"
   ]
  },
  {
   "cell_type": "code",
   "execution_count": 30,
   "metadata": {},
   "outputs": [
    {
     "name": "stdout",
     "output_type": "stream",
     "text": [
      "<class 'pandas.core.frame.DataFrame'>\n",
      "Int64Index: 53 entries, 0 to 52\n",
      "Data columns (total 19 columns):\n",
      " #   Column                     Non-Null Count  Dtype         \n",
      "---  ------                     --------------  -----         \n",
      " 0   Precipitation              53 non-null     float64       \n",
      " 1   Date.Full                  53 non-null     object        \n",
      " 2   Date.Month                 53 non-null     int64         \n",
      " 3   Date.Week of               53 non-null     int64         \n",
      " 4   Date.Year                  53 non-null     int64         \n",
      " 5   StationCity                53 non-null     object        \n",
      " 6   Station.Code               53 non-null     object        \n",
      " 7   Station.Location           53 non-null     object        \n",
      " 8   StationState               53 non-null     object        \n",
      " 9   TempAvg                    53 non-null     int64         \n",
      " 10  Data.Temperature.Max Temp  53 non-null     int64         \n",
      " 11  Data.Temperature.Min Temp  53 non-null     int64         \n",
      " 12  Data.Wind.Direction        53 non-null     int64         \n",
      " 13  WindSpeed                  53 non-null     float64       \n",
      " 14  Population                 53 non-null     int64         \n",
      " 15  lat                        53 non-null     float64       \n",
      " 16  lon                        53 non-null     float64       \n",
      " 17  Date                       53 non-null     datetime64[ns]\n",
      " 18  stationcode                53 non-null     object        \n",
      "dtypes: datetime64[ns](1), float64(4), int64(8), object(6)\n",
      "memory usage: 8.3+ KB\n"
     ]
    }
   ],
   "source": [
    "df_bhm.info()"
   ]
  },
  {
   "cell_type": "code",
   "execution_count": 39,
   "metadata": {},
   "outputs": [
    {
     "data": {
      "text/plain": [
       "<Axes: xlabel='Date'>"
      ]
     },
     "execution_count": 39,
     "metadata": {},
     "output_type": "execute_result"
    },
    {
     "data": {
      "image/png": "[encoded data removed]",
      "text/plain": [
       "<Figure size 640x480 with 1 Axes>"
      ]
     },
     "metadata": {},
     "output_type": "display_data"
    }
   ],
   "source": [
    "series_bhm = TimeSeries.from_dataframe(df_bhm, 'Date', 'Precipitation')\n",
    "series_bhm.plot()"
   ]
  },
  {
   "cell_type": "markdown",
   "metadata": {},
   "source": [
    "## 1. Statiscal Models "
   ]
  },
  {
   "cell_type": "code",
   "execution_count": 45,
   "metadata": {},
   "outputs": [],
   "source": [
    "\n",
    "from darts.models import AutoARIMA\n",
    "\n",
    "train, val = series_bhm.split_before(pd.Timestamp('2016-10-16'))\n",
    "\n",
    "model = AutoARIMA()\n",
    "model.fit(train)\n",
    "prediction = model.predict(len(val))\n"
   ]
  },
  {
   "cell_type": "code",
   "execution_count": 66,
   "metadata": {},
   "outputs": [],
   "source": [
    "# fitting function\n",
    "def eval_model(model):\n",
    "    model.fit(train)\n",
    "    forecast = model.predict(len(val))\n",
    "    print('model {} obtains RMSE: {:.2f}%'.format(model, rmse(val, forecast)))"
   ]
  },
  {
   "cell_type": "code",
   "execution_count": 67,
   "metadata": {},
   "outputs": [
    {
     "name": "stdout",
     "output_type": "stream",
     "text": [
      "model AutoARIMA() obtains RMSE: 0.67%\n"
     ]
    }
   ],
   "source": [
    "eval_model(model)"
   ]
  },
  {
   "cell_type": "markdown",
   "metadata": {},
   "source": [
    "## 2. Classic Machine Learning Models "
   ]
  },
  {
   "cell_type": "code",
   "execution_count": null,
   "metadata": {},
   "outputs": [],
   "source": []
  },
  {
   "cell_type": "markdown",
   "metadata": {},
   "source": [
    "## 3. Deep Learning Models  "
   ]
  },
  {
   "cell_type": "code",
   "execution_count": null,
   "metadata": {},
   "outputs": [],
   "source": []
  }
 ],
 "metadata": {
  "kernelspec": {
   "display_name": "hs01",
   "language": "python",
   "name": "python3"
  },
  "language_info": {
   "codemirror_mode": {
    "name": "ipython",
    "version": 3
   },
   "file_extension": ".py",
   "mimetype": "text/x-python",
   "name": "python",
   "nbconvert_exporter": "python",
   "pygments_lexer": "ipython3",
   "version": "3.9.16"
  }
 },
 "nbformat": 4,
 "nbformat_minor": 2
}
