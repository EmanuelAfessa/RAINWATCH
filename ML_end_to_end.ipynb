{
 "cells": [
  {
   "cell_type": "markdown",
   "metadata": {},
   "source": [
    "# RAINWATCH _ end to end ML "
   ]
  },
  {
   "cell_type": "markdown",
   "metadata": {},
   "source": [
    "## 0. Import libraries and data"
   ]
  },
  {
   "cell_type": "code",
   "execution_count": 4,
   "metadata": {},
   "outputs": [],
   "source": [
    "# import libraries \n",
    "import pandas as pd\n",
    "\n",
    "from darts import TimeSeries\n",
    "from darts.dataprocessing.transformers import Scaler\n",
    "from darts.metrics import mape, mase\n",
    "from darts.utils.statistics import check_seasonality, plot_acf, plot_residuals_analysis\n",
    "from darts.models import (\n",
    "    NaiveSeasonal,\n",
    "    NaiveDrift,\n",
    "    Prophet,\n",
    "    ExponentialSmoothing,\n",
    "    LinearRegressionModel,\n",
    "    ARIMA,\n",
    "    AutoARIMA,\n",
    "    RegressionEnsembleModel,\n",
    "    RegressionModel,\n",
    "    Theta,\n",
    "    FFT,\n",
    "    RNNModel,\n",
    "    BlockRNNModel\n",
    "\n",
    ")"
   ]
  },
  {
   "cell_type": "code",
   "execution_count": 16,
   "metadata": {},
   "outputs": [
    {
     "name": "stdout",
     "output_type": "stream",
     "text": [
      "<class 'pandas.core.frame.DataFrame'>\n",
      "RangeIndex: 9328 entries, 0 to 9327\n",
      "Data columns (total 17 columns):\n",
      " #   Column                     Non-Null Count  Dtype  \n",
      "---  ------                     --------------  -----  \n",
      " 0   Precipitation              9328 non-null   float64\n",
      " 1   Date.Full                  9328 non-null   object \n",
      " 2   Date.Month                 9328 non-null   int64  \n",
      " 3   Date.Week of               9328 non-null   int64  \n",
      " 4   Date.Year                  9328 non-null   int64  \n",
      " 5   StationCity                9328 non-null   object \n",
      " 6   Station.Code               9328 non-null   object \n",
      " 7   Station.Location           9328 non-null   object \n",
      " 8   StationState               9328 non-null   object \n",
      " 9   TempAvg                    9328 non-null   int64  \n",
      " 10  Data.Temperature.Max Temp  9328 non-null   int64  \n",
      " 11  Data.Temperature.Min Temp  9328 non-null   int64  \n",
      " 12  Data.Wind.Direction        9328 non-null   int64  \n",
      " 13  WindSpeed                  9328 non-null   float64\n",
      " 14  Population                 9328 non-null   int64  \n",
      " 15  lat                        9328 non-null   float64\n",
      " 16  lon                        9328 non-null   float64\n",
      "dtypes: float64(4), int64(8), object(5)\n",
      "memory usage: 1.2+ MB\n",
      "None\n",
      "   Precipitation   Date.Full  Date.Month  Date.Week of  Date.Year StationCity  \\\n",
      "0           0.00  2016-01-03           1             3       2016  Birmingham   \n",
      "1           0.52  2016-01-10           1            10       2016  Birmingham   \n",
      "2           0.34  2016-01-17           1            17       2016  Birmingham   \n",
      "\n",
      "  Station.Code Station.Location StationState  TempAvg  \\\n",
      "0          BHM   Birmingham, AL      Alabama       39   \n",
      "1          BHM   Birmingham, AL      Alabama       44   \n",
      "2          BHM   Birmingham, AL      Alabama       42   \n",
      "\n",
      "   Data.Temperature.Max Temp  Data.Temperature.Min Temp  Data.Wind.Direction  \\\n",
      "0                         46                         32                   33   \n",
      "1                         52                         36                   12   \n",
      "2                         52                         31                   28   \n",
      "\n",
      "   WindSpeed  Population        lat       lon  \n",
      "0       4.33      212113  33.520661 -86.80249  \n",
      "1       6.55      212113  33.520661 -86.80249  \n",
      "2       3.94      212113  33.520661 -86.80249  \n"
     ]
    }
   ],
   "source": [
    "# import and preview data\n",
    "df_rw = pd.read_csv('data/proc_data/weatherwcity.csv')\n",
    "print(df_rw.info())\n",
    "print(df_rw.head(3))\n",
    "\n"
   ]
  },
  {
   "cell_type": "code",
   "execution_count": 17,
   "metadata": {},
   "outputs": [],
   "source": [
    "df_rw['Date']=df_rw['Date.Full'].apply(pd.to_datetime)"
   ]
  },
  {
   "cell_type": "code",
   "execution_count": 18,
   "metadata": {},
   "outputs": [
    {
     "name": "stderr",
     "output_type": "stream",
     "text": [
      "ValueError: The time index of the provided DataArray is missing the freq attribute, and the frequency could not be directly inferred. This probably comes from inconsistent date frequencies with missing dates. If you know the actual frequency, try setting `fill_missing_dates=True, freq=actual_frequency`. If not, try setting `fill_missing_dates=True, freq=None` to see if a frequency can be inferred.\n"
     ]
    },
    {
     "ename": "ValueError",
     "evalue": "The time index of the provided DataArray is missing the freq attribute, and the frequency could not be directly inferred. This probably comes from inconsistent date frequencies with missing dates. If you know the actual frequency, try setting `fill_missing_dates=True, freq=actual_frequency`. If not, try setting `fill_missing_dates=True, freq=None` to see if a frequency can be inferred.",
     "output_type": "error",
     "traceback": [
      "\u001b[1;31m---------------------------------------------------------------------------\u001b[0m",
      "\u001b[1;31mValueError\u001b[0m                                Traceback (most recent call last)",
      "\u001b[1;32md:\\GIS_platforms\\RAINWATCH_github\\RAINWATCH\\ML_end_to_end.ipynb Cell 6\u001b[0m line \u001b[0;36m3\n\u001b[0;32m      <a href='vscode-notebook-cell:/d%3A/GIS_platforms/RAINWATCH_github/RAINWATCH/ML_end_to_end.ipynb#X12sZmlsZQ%3D%3D?line=0'>1</a>\u001b[0m \u001b[39m# use darts \u001b[39;00m\n\u001b[0;32m      <a href='vscode-notebook-cell:/d%3A/GIS_platforms/RAINWATCH_github/RAINWATCH/ML_end_to_end.ipynb#X12sZmlsZQ%3D%3D?line=1'>2</a>\u001b[0m df_rw\u001b[39m.\u001b[39mset_index(\u001b[39m'\u001b[39m\u001b[39mDate\u001b[39m\u001b[39m'\u001b[39m, inplace\u001b[39m=\u001b[39m\u001b[39mTrue\u001b[39;00m)  \u001b[39m# set Date as index\u001b[39;00m\n\u001b[1;32m----> <a href='vscode-notebook-cell:/d%3A/GIS_platforms/RAINWATCH_github/RAINWATCH/ML_end_to_end.ipynb#X12sZmlsZQ%3D%3D?line=2'>3</a>\u001b[0m ts_object \u001b[39m=\u001b[39m TimeSeries\u001b[39m.\u001b[39;49mfrom_times_and_values(times\u001b[39m=\u001b[39;49mdf_rw\u001b[39m.\u001b[39;49mindex,values\u001b[39m=\u001b[39;49mdf_rw[\u001b[39m'\u001b[39;49m\u001b[39mPrecipitation\u001b[39;49m\u001b[39m'\u001b[39;49m])\n",
      "File \u001b[1;32mc:\\Users\\emanu\\anaconda3\\envs\\hs01\\lib\\site-packages\\darts\\timeseries.py:1038\u001b[0m, in \u001b[0;36mTimeSeries.from_times_and_values\u001b[1;34m(cls, times, values, fill_missing_dates, freq, columns, fillna_value, static_covariates, hierarchy)\u001b[0m\n\u001b[0;32m   1029\u001b[0m     coords[DIMS[\u001b[39m1\u001b[39m]] \u001b[39m=\u001b[39m columns\n\u001b[0;32m   1031\u001b[0m xa \u001b[39m=\u001b[39m xr\u001b[39m.\u001b[39mDataArray(\n\u001b[0;32m   1032\u001b[0m     values,\n\u001b[0;32m   1033\u001b[0m     dims\u001b[39m=\u001b[39m(times_name,) \u001b[39m+\u001b[39m DIMS[\u001b[39m-\u001b[39m\u001b[39m2\u001b[39m:],\n\u001b[0;32m   1034\u001b[0m     coords\u001b[39m=\u001b[39mcoords,\n\u001b[0;32m   1035\u001b[0m     attrs\u001b[39m=\u001b[39m{STATIC_COV_TAG: static_covariates, HIERARCHY_TAG: hierarchy},\n\u001b[0;32m   1036\u001b[0m )\n\u001b[1;32m-> 1038\u001b[0m \u001b[39mreturn\u001b[39;00m \u001b[39mcls\u001b[39;49m\u001b[39m.\u001b[39;49mfrom_xarray(\n\u001b[0;32m   1039\u001b[0m     xa\u001b[39m=\u001b[39;49mxa,\n\u001b[0;32m   1040\u001b[0m     fill_missing_dates\u001b[39m=\u001b[39;49mfill_missing_dates,\n\u001b[0;32m   1041\u001b[0m     freq\u001b[39m=\u001b[39;49mfreq,\n\u001b[0;32m   1042\u001b[0m     fillna_value\u001b[39m=\u001b[39;49mfillna_value,\n\u001b[0;32m   1043\u001b[0m )\n",
      "File \u001b[1;32mc:\\Users\\emanu\\anaconda3\\envs\\hs01\\lib\\site-packages\\darts\\timeseries.py:450\u001b[0m, in \u001b[0;36mTimeSeries.from_xarray\u001b[1;34m(cls, xa, fill_missing_dates, freq, fillna_value)\u001b[0m\n\u001b[0;32m    446\u001b[0m \u001b[39m# We cast the array to float\u001b[39;00m\n\u001b[0;32m    447\u001b[0m \u001b[39mif\u001b[39;00m np\u001b[39m.\u001b[39missubdtype(xa_\u001b[39m.\u001b[39mvalues\u001b[39m.\u001b[39mdtype, np\u001b[39m.\u001b[39mfloat32) \u001b[39mor\u001b[39;00m np\u001b[39m.\u001b[39missubdtype(\n\u001b[0;32m    448\u001b[0m     xa_\u001b[39m.\u001b[39mvalues\u001b[39m.\u001b[39mdtype, np\u001b[39m.\u001b[39mfloat64\n\u001b[0;32m    449\u001b[0m ):\n\u001b[1;32m--> 450\u001b[0m     \u001b[39mreturn\u001b[39;00m \u001b[39mcls\u001b[39;49m(xa_)\n\u001b[0;32m    451\u001b[0m \u001b[39melse\u001b[39;00m:\n\u001b[0;32m    452\u001b[0m     \u001b[39mreturn\u001b[39;00m \u001b[39mcls\u001b[39m(xa_\u001b[39m.\u001b[39mastype(np\u001b[39m.\u001b[39mfloat64))\n",
      "File \u001b[1;32mc:\\Users\\emanu\\anaconda3\\envs\\hs01\\lib\\site-packages\\darts\\timeseries.py:181\u001b[0m, in \u001b[0;36mTimeSeries.__init__\u001b[1;34m(self, xa)\u001b[0m\n\u001b[0;32m    173\u001b[0m freq_tmp \u001b[39m=\u001b[39m xa\u001b[39m.\u001b[39mget_index(\n\u001b[0;32m    174\u001b[0m     \u001b[39mself\u001b[39m\u001b[39m.\u001b[39m_time_dim\n\u001b[0;32m    175\u001b[0m )\u001b[39m.\u001b[39mfreq  \u001b[39m# store original freq (see bug of sortby() above).\u001b[39;00m\n\u001b[0;32m    176\u001b[0m \u001b[39mself\u001b[39m\u001b[39m.\u001b[39m_freq: pd\u001b[39m.\u001b[39mDateOffset \u001b[39m=\u001b[39m (\n\u001b[0;32m    177\u001b[0m     freq_tmp\n\u001b[0;32m    178\u001b[0m     \u001b[39mif\u001b[39;00m freq_tmp \u001b[39mis\u001b[39;00m \u001b[39mnot\u001b[39;00m \u001b[39mNone\u001b[39;00m\n\u001b[0;32m    179\u001b[0m     \u001b[39melse\u001b[39;00m to_offset(\u001b[39mself\u001b[39m\u001b[39m.\u001b[39m_xa\u001b[39m.\u001b[39mget_index(\u001b[39mself\u001b[39m\u001b[39m.\u001b[39m_time_dim)\u001b[39m.\u001b[39minferred_freq)\n\u001b[0;32m    180\u001b[0m )\n\u001b[1;32m--> 181\u001b[0m raise_if(\n\u001b[0;32m    182\u001b[0m     \u001b[39mself\u001b[39;49m\u001b[39m.\u001b[39;49m_freq \u001b[39mis\u001b[39;49;00m \u001b[39mNone\u001b[39;49;00m,\n\u001b[0;32m    183\u001b[0m     \u001b[39m\"\u001b[39;49m\u001b[39mThe time index of the provided DataArray is missing the freq attribute, and the frequency could \u001b[39;49m\u001b[39m\"\u001b[39;49m\n\u001b[0;32m    184\u001b[0m     \u001b[39m\"\u001b[39;49m\u001b[39mnot be directly inferred. \u001b[39;49m\u001b[39m\"\u001b[39;49m\n\u001b[0;32m    185\u001b[0m     \u001b[39m\"\u001b[39;49m\u001b[39mThis probably comes from inconsistent date frequencies with missing dates. \u001b[39;49m\u001b[39m\"\u001b[39;49m\n\u001b[0;32m    186\u001b[0m     \u001b[39m\"\u001b[39;49m\u001b[39mIf you know the actual frequency, try setting `fill_missing_dates=True, freq=actual_frequency`. \u001b[39;49m\u001b[39m\"\u001b[39;49m\n\u001b[0;32m    187\u001b[0m     \u001b[39m\"\u001b[39;49m\u001b[39mIf not, try setting `fill_missing_dates=True, freq=None` to see if a frequency can be inferred.\u001b[39;49m\u001b[39m\"\u001b[39;49m,\n\u001b[0;32m    188\u001b[0m     logger,\n\u001b[0;32m    189\u001b[0m )\n\u001b[0;32m    191\u001b[0m \u001b[39mself\u001b[39m\u001b[39m.\u001b[39m_freq_str: \u001b[39mstr\u001b[39m \u001b[39m=\u001b[39m \u001b[39mself\u001b[39m\u001b[39m.\u001b[39m_freq\u001b[39m.\u001b[39mfreqstr\n\u001b[0;32m    193\u001b[0m \u001b[39m# reset freq inside the xarray index (see bug of sortby() above).\u001b[39;00m\n",
      "File \u001b[1;32mc:\\Users\\emanu\\anaconda3\\envs\\hs01\\lib\\site-packages\\darts\\logging.py:104\u001b[0m, in \u001b[0;36mraise_if\u001b[1;34m(condition, message, logger)\u001b[0m\n\u001b[0;32m     81\u001b[0m \u001b[39mdef\u001b[39;00m \u001b[39mraise_if\u001b[39m(\n\u001b[0;32m     82\u001b[0m     condition: \u001b[39mbool\u001b[39m,\n\u001b[0;32m     83\u001b[0m     message: \u001b[39mstr\u001b[39m \u001b[39m=\u001b[39m \u001b[39m\"\u001b[39m\u001b[39m\"\u001b[39m,\n\u001b[0;32m     84\u001b[0m     logger: logging\u001b[39m.\u001b[39mLogger \u001b[39m=\u001b[39m get_logger(\u001b[39m\"\u001b[39m\u001b[39mmain_logger\u001b[39m\u001b[39m\"\u001b[39m),\n\u001b[0;32m     85\u001b[0m ):\n\u001b[0;32m     86\u001b[0m \u001b[39m    \u001b[39m\u001b[39m\"\"\"\u001b[39;00m\n\u001b[0;32m     87\u001b[0m \u001b[39m    Checks provided boolean condition and raises a ValueError if it evaluates to True.\u001b[39;00m\n\u001b[0;32m     88\u001b[0m \u001b[39m    It logs the error to the provided logger before raising it.\u001b[39;00m\n\u001b[1;32m   (...)\u001b[0m\n\u001b[0;32m    102\u001b[0m \u001b[39m        if `condition` is satisfied\u001b[39;00m\n\u001b[0;32m    103\u001b[0m \u001b[39m    \"\"\"\u001b[39;00m\n\u001b[1;32m--> 104\u001b[0m     raise_if_not(\u001b[39mnot\u001b[39;49;00m condition, message, logger)\n",
      "File \u001b[1;32mc:\\Users\\emanu\\anaconda3\\envs\\hs01\\lib\\site-packages\\darts\\logging.py:78\u001b[0m, in \u001b[0;36mraise_if_not\u001b[1;34m(condition, message, logger)\u001b[0m\n\u001b[0;32m     76\u001b[0m \u001b[39mif\u001b[39;00m \u001b[39mnot\u001b[39;00m condition:\n\u001b[0;32m     77\u001b[0m     logger\u001b[39m.\u001b[39merror(\u001b[39m\"\u001b[39m\u001b[39mValueError: \u001b[39m\u001b[39m\"\u001b[39m \u001b[39m+\u001b[39m message)\n\u001b[1;32m---> 78\u001b[0m     \u001b[39mraise\u001b[39;00m \u001b[39mValueError\u001b[39;00m(message)\n",
      "\u001b[1;31mValueError\u001b[0m: The time index of the provided DataArray is missing the freq attribute, and the frequency could not be directly inferred. This probably comes from inconsistent date frequencies with missing dates. If you know the actual frequency, try setting `fill_missing_dates=True, freq=actual_frequency`. If not, try setting `fill_missing_dates=True, freq=None` to see if a frequency can be inferred."
     ]
    }
   ],
   "source": [
    "# use darts \n",
    "df_rw.set_index('Date', inplace=True)  # set Date as index\n",
    "ts_object = TimeSeries.from_times_and_values(times=df_rw.index,values=df_rw['Precipitation'])"
   ]
  },
  {
   "cell_type": "markdown",
   "metadata": {},
   "source": [
    "## 1. "
   ]
  },
  {
   "cell_type": "code",
   "execution_count": null,
   "metadata": {},
   "outputs": [],
   "source": [
    "####################\n",
    "# Feature selection\n",
    "####################\n",
    "columns = ['TempAvg', \n",
    "'WindSpeed', \n",
    "'Precipitation', \n",
    "]\n",
    "\n",
    "df = df_rw[columns]"
   ]
  }
 ],
 "metadata": {
  "kernelspec": {
   "display_name": "hs01",
   "language": "python",
   "name": "python3"
  },
  "language_info": {
   "codemirror_mode": {
    "name": "ipython",
    "version": 3
   },
   "file_extension": ".py",
   "mimetype": "text/x-python",
   "name": "python",
   "nbconvert_exporter": "python",
   "pygments_lexer": "ipython3",
   "version": "3.9.16"
  }
 },
 "nbformat": 4,
 "nbformat_minor": 2
}
